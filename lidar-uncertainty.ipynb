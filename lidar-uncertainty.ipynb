{
 "cells": [
  {
   "cell_type": "markdown",
   "id": "d9ffd670",
   "metadata": {},
   "source": [
    "# LiDAR Uncertainty at SOAP and NEON sites"
   ]
  },
  {
   "cell_type": "markdown",
   "id": "f6ed80a7",
   "metadata": {},
   "source": [
    "## The SOAP site\n",
    "![Soaproot Panorama](img/Soaproot_pano.jpeg)\n",
    "Image credit: National Ecological Observtory Network, available at: https://www.neonscience.org/field-sites/soap"
   ]
  },
  {
   "cell_type": "code",
   "execution_count": 1,
   "id": "5f29b888",
   "metadata": {},
   "outputs": [],
   "source": [
    "import os\n",
    "import pathlib\n",
    "\n",
    "import earthpy as et\n",
    "import pandas as pd\n",
    "import geopandas as gpd\n",
    "import matplotlib.pyplot as plt\n",
    "import rasterstats as rs\n",
    "import xarray as xr\n",
    "import rioxarray as rxr\n",
    "import seaborn as sns\n",
    "import clean\n",
    "\n",
    "et.data.get_data('spatial-vector-lidar')\n",
    "\n",
    "home_dir = os.path.join(\n",
    "    pathlib.Path.home(),\n",
    "    'earth-analytics',\n",
    "    'data',\n",
    "    'spatial-vector-lidar'\n",
    ")\n",
    "os.chdir(home_dir)"
   ]
  },
  {
   "cell_type": "code",
   "execution_count": null,
   "id": "e2ed6bdf",
   "metadata": {},
   "outputs": [],
   "source": [
    "# python also looks in current working directory for libraries"
   ]
  }
 ],
 "metadata": {
  "kernelspec": {
   "display_name": "Python 3 (ipykernel)",
   "language": "python",
   "name": "python3"
  },
  "language_info": {
   "codemirror_mode": {
    "name": "ipython",
    "version": 3
   },
   "file_extension": ".py",
   "mimetype": "text/x-python",
   "name": "python",
   "nbconvert_exporter": "python",
   "pygments_lexer": "ipython3",
   "version": "3.8.13"
  },
  "varInspector": {
   "cols": {
    "lenName": 16,
    "lenType": 16,
    "lenVar": 40
   },
   "kernels_config": {
    "python": {
     "delete_cmd_postfix": "",
     "delete_cmd_prefix": "del ",
     "library": "var_list.py",
     "varRefreshCmd": "print(var_dic_list())"
    },
    "r": {
     "delete_cmd_postfix": ") ",
     "delete_cmd_prefix": "rm(",
     "library": "var_list.r",
     "varRefreshCmd": "cat(var_dic_list()) "
    }
   },
   "types_to_exclude": [
    "module",
    "function",
    "builtin_function_or_method",
    "instance",
    "_Feature"
   ],
   "window_display": false
  }
 },
 "nbformat": 4,
 "nbformat_minor": 5
}
